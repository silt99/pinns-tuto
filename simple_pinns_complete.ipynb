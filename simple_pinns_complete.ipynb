{
  "cells": [
    {
      "cell_type": "code",
      "execution_count": 1,
      "metadata": {
        "id": "7ZwNn9F4aQ_v"
      },
      "outputs": [],
      "source": [
        "import numpy as np\n",
        "import matplotlib.pyplot as plt\n",
        "import torch\n",
        "import torch.nn as nn\n",
        "from torch.optim import Adam\n",
        "from torch.autograd import grad, Variable"
      ]
    },
    {
      "cell_type": "code",
      "execution_count": 2,
      "metadata": {
        "id": "KeY-d9k3aQ_w"
      },
      "outputs": [],
      "source": [
        "#Lets Create a Simple NN (MLP, 3 layers, RELU)\n",
        "class SimpleNN(nn.Sequential):\n",
        "    \"\"\"SimpleNN.\n",
        "\n",
        "    Args:\n",
        "        input_size  (int): Input size.\n",
        "        hidden_size (int): Hidden size.\n",
        "        output_size (int): Output size.\n",
        "    \"\"\"\n",
        "    def __init__(self, input_size, hidden_size, output_size):\n",
        "        super(SimpleNN, self).__init__(\n",
        "            nn.Linear(input_size, hidden_size),\n",
        "            nn.ReLU(inplace=True),\n",
        "            nn.Linear(hidden_size, hidden_size),\n",
        "            nn.ReLU(inplace=True),\n",
        "            nn.Linear(hidden_size, output_size)\n",
        "        )"
      ]
    },
    {
      "cell_type": "code",
      "execution_count": 3,
      "metadata": {
        "id": "qlVK8BTJaQ_w"
      },
      "outputs": [],
      "source": [
        "# Lets Define the Physics Loss\n",
        "# We need to store one paramer (velocity)\n",
        "# The formula is df/dt=v*df/dx\n",
        "class SinPhyLoss(nn.Module):\n",
        "    \"\"\"SinPhy loss.\n",
        "\n",
        "    Args:\n",
        "        velocity (float): velocity.\n",
        "    \"\"\"\n",
        "\n",
        "    def __init__(self, velocity):\n",
        "        super().__init__()\n",
        "        self.velocity = velocity\n",
        "\n",
        "    def forward(self, pY, t, x, weight=None, **kwargs):\n",
        "        \"\"\"Forward Function.\n",
        "\n",
        "        Args:\n",
        "            pY (Tensor): of shape (N, C, H, W). Predicted tensor.\n",
        "            x (Tensor): of shape (N, C, H, W).  Input truth tensor.\n",
        "            weight (Tensor, optional): of shape (N, C, H, W). Element-wise\n",
        "                weights. Default: None.\n",
        "        \"\"\"\n",
        "        pd_time = grad(pY.sum(), t, create_graph=True)[0]\n",
        "        pd_pos  = grad(pY.sum(), x, create_graph=True)[0]\n",
        "        loss    = ((pd_time-self.velocity*pd_pos)**2.).mean()\n",
        "\n",
        "        return loss"
      ]
    },
    {
      "cell_type": "code",
      "execution_count": 4,
      "metadata": {
        "id": "Ve0CjZKaaQ_x"
      },
      "outputs": [],
      "source": [
        "#Lets new define a train step\n",
        "def train_step(fx, train_data, train_phys, train_bound,\n",
        "               loss_phys_func,\n",
        "               data_coef=1, phys_coef=1, bound_coef=1):\n",
        "    \"\"\"Train step.\n",
        "\n",
        "    Args:\n",
        "        fx (nn.Module): Network.\n",
        "        train_data (Tensor):  of shape (N, 3, H, W). Train data (regression) with t, x and f.\n",
        "        train_phys (Tensor):  of shape (M, 3, H, W). Train phys data with t and x.\n",
        "        train_bound (Tensor): of shape (L, 3, H, W). Train bound data points with t, x and f.\n",
        "        loss_phys_func (nn.Module): Physics loss.\n",
        "        data_coef (float):  Weight of the regression term in the loss. Default 1.\n",
        "        phys_coef (float):  Weight of the physiscs term in the loss. Default 1.\n",
        "        bound_coef (float): Weight of the bound conditions term in the loss. Default 1.\n",
        "    \"\"\"\n",
        "    loss_data = loss_phys = loss_bound = 0\n",
        "\n",
        "    if data_coef > 0:\n",
        "        pF = fx(train_data[:, :2])\n",
        "        loss_data = ((pF - train_data[:, 2:])**2.).mean()\n",
        "\n",
        "    if phys_coef > 0:\n",
        "        t, x = torch.chunk(train_phys, chunks=2, dim=1)\n",
        "        t.requires_grad = True\n",
        "        x.requires_grad = True\n",
        "        pF = fx(torch.cat([t, x], dim=1))\n",
        "        loss_phys = loss_phys_func(pF, t, x)\n",
        "\n",
        "    if bound_coef > 0:\n",
        "        pF = fx(train_bound[:, :2])\n",
        "        loss_bound = ((pF - train_bound[:, 2:])**2.).mean()\n",
        "\n",
        "    loss = data_coef*loss_data + phys_coef*loss_phys + bound_coef*loss_bound\n",
        "\n",
        "    return {'loss': loss, 'loss_data': loss_data, 'loss_phys': loss_phys, 'loss_bound': loss_bound}"
      ]
    },
    {
      "cell_type": "code",
      "execution_count": 5,
      "metadata": {
        "id": "R65UvAZgaQ_x"
      },
      "outputs": [],
      "source": [
        "#Util for batch sampling\n",
        "def batch_sample(data, batch_size):\n",
        "    indices = torch.randint(low=0, high=data.shape[0], size=(batch_size,))\n",
        "\n",
        "    return data[indices]\n",
        "\n",
        "def domain_sampling(batch_size, T, L):\n",
        "    t = torch.rand(size=(batch_size,))*T\n",
        "    x = torch.rand(size=(batch_size,))*L\n",
        "\n",
        "    return torch.stack((t, x), dim=1)\n"
      ]
    },
    {
      "cell_type": "code",
      "execution_count": 6,
      "metadata": {
        "id": "PwE1-mXGaQ_x"
      },
      "outputs": [],
      "source": [
        "def gen_data(L=1.0, T=2.0, v=0.1, Nx=101, Nt=1000):\n",
        "    # Parameters\n",
        "    L = 1.0  # Length of the string\n",
        "    T = 2.0  # Total time of simulation\n",
        "    v = 0.1  # Wave speed\n",
        "    Nx = 101  # Number of spatial points\n",
        "    Nt = 1000  # Number of time steps\n",
        "\n",
        "    # Derived parameters\n",
        "    dx = L / (Nx - 1)  # Spatial step size\n",
        "    dt = T / Nt  # Time step size\n",
        "    c = v * dt / dx  # Courant number\n",
        "\n",
        "    if c > 1:\n",
        "        raise ValueError(\"The Courant number must be <= 1 for stability.\")\n",
        "\n",
        "    # Spatial and temporal grids\n",
        "    x = np.linspace(0, L, Nx)\n",
        "    t = np.linspace(0, T, Nt)\n",
        "\n",
        "    # Initial conditions\n",
        "    f = np.zeros((Nt, Nx))  # Initialize the solution array\n",
        "\n",
        "    # Boundary conditions (fixed ends)\n",
        "    f[:, 0] = 0\n",
        "    f[:, -1] = 0\n",
        "\n",
        "    # Initial condition at t = 0\n",
        "    # OPTION A: Considering the string is already vibrating\n",
        "    f[0, :] = np.sin(10 * np.pi * x)\n",
        "\n",
        "    # OPTION B: Considering we just hit the string with our thumb in the center (Gaussian model at a point point)\n",
        "    # mu = L/2\n",
        "    # sigma = L/20\n",
        "    # f[0, :] = np.exp(-(x - mu)**2/(2 * sigma**2))\n",
        "\n",
        "    # Assume zero initial velocity to start the numerical propagation\n",
        "    f[1, :] = f[0, :]\n",
        "\n",
        "\n",
        "    # Finite difference scheme\n",
        "    for n in range(1, Nt - 1):\n",
        "        f[n + 1, 1:-1] = (\n",
        "            2 * f[n, 1:-1]\n",
        "            - f[n - 1, 1:-1]\n",
        "            + c**2 * (f[n, 2:] - 2 * f[n, 1:-1] + f[n, :-2])\n",
        "        )\n",
        "\n",
        "    X = np.zeros((t.shape[0], x.shape[0], 2), np.float32)\n",
        "    y = np.zeros((t.shape[0], x.shape[0]), np.float32)\n",
        "    boundary = np.zeros((t.shape[0]*2, 3), np.float32)\n",
        "\n",
        "    for i, ti in enumerate(t):\n",
        "        for j, xj in enumerate(x):\n",
        "            X[i, j, 0] = ti\n",
        "            X[i, j, 1] = xj\n",
        "            y[i, j] = f[i, j]\n",
        "\n",
        "    boundary[:t.shape[0], 0] = t\n",
        "    boundary[t.shape[0]:, 0] = t\n",
        "    boundary[:t.shape[0], 1] = x[0]\n",
        "    boundary[t.shape[0]:, 1] = x[-1]\n",
        "\n",
        "    X = X.reshape((t.shape[0]*x.shape[0], 2))\n",
        "    y = y.reshape((t.shape[0]*x.shape[0], 1))\n",
        "\n",
        "    return X, y, boundary"
      ]
    },
    {
      "cell_type": "code",
      "execution_count": 7,
      "metadata": {
        "id": "b1DzpWOFaQ_y"
      },
      "outputs": [],
      "source": [
        "# Visualization\n",
        "def animate_wave(f, tx, T=2.0, Nt=1000, interval=200):\n",
        "    dt = T / Nt\n",
        "\n",
        "    #plt.figure(figsize=(8, 4))\n",
        "    for n in range(0, Nt, interval):\n",
        "        t = n * dt\n",
        "        idx_t = np.abs(tx[:, 0]-t) < dt\n",
        "\n",
        "        x_t = tx[idx_t, 1]\n",
        "        f_t = f[idx_t, 0]\n",
        "\n",
        "        #plt.clf()\n",
        "        plt.plot(x_t, f_t, label=f\"Time: {n * dt:.2f} s\")\n",
        "        #plt.pause(0.01)\n",
        "    plt.ylim(-1.2, 1.2)\n",
        "    plt.xlabel(\"Position (x)\")\n",
        "    plt.ylabel(\"Displacement (f)\")\n",
        "    plt.title(\"1D Wave Equation Simulation\")\n",
        "    #plt.legend()\n",
        "    plt.show()\n"
      ]
    },
    {
      "cell_type": "code",
      "execution_count": 8,
      "metadata": {
        "id": "dz1lvNqfaQ_y"
      },
      "outputs": [],
      "source": [
        "#Some common paramerters\n",
        "RS = 1    #Random Seed\n",
        "L = 1.0   # Length of the string\n",
        "T = 2.0   # Total time of simulation\n",
        "v = 0.1   # Wave speed\n",
        "Nx = 101  # Number of spatial points\n",
        "Nt = 1000 # Number of time steps\n",
        "N  = int(1e5)  # Number of training iterations\n",
        "BS = 256  # Batch size\n",
        "PN = 100  # Print results every this number\n",
        "\n",
        "#Set Random seed for numpy and torch\n",
        "np.random.seed(RS)\n",
        "g=torch.manual_seed(RS)"
      ]
    },
    {
      "cell_type": "code",
      "execution_count": 9,
      "metadata": {
        "id": "nje1nujKaQ_z"
      },
      "outputs": [],
      "source": [
        "#First, generate data and boundary\n",
        "tx, f, boundary = gen_data(L, T, v, Nx, Nt)\n",
        "\n",
        "#Lets get some random points for training\n",
        "NTrain = int(0.5*tx.shape[0]) # We are going to use 50% of points for training in this example\n",
        "\n",
        "#Shuffle!\n",
        "ind_train = np.arange(0,tx.shape[0],1,dtype=np.int32)\n",
        "np.random.shuffle(ind_train)\n",
        "ind_train = ind_train[:NTrain]\n",
        "\n",
        "#Create tensors\n",
        "train_data = torch.from_numpy(np.concatenate([tx[ind_train], f[ind_train]], axis=1))\n",
        "train_boundary = torch.from_numpy(boundary)\n",
        "\n",
        "#Second, let's create the physics loss\n",
        "loss_phys_func = SinPhyLoss(velocity=v)\n",
        "\n",
        "#Third, network\n",
        "network = SimpleNN(input_size=2, hidden_size=512, output_size=1)\n",
        "\n",
        "#Finally, Adam\n",
        "optimizer = Adam(network.parameters(), lr=0.001)"
      ]
    },
    {
      "cell_type": "code",
      "execution_count": 10,
      "metadata": {
        "id": "Ikt5xog_aQ_z",
        "outputId": "076633c0-fcca-4ac5-c06d-502e502439c3",
        "colab": {
          "base_uri": "https://localhost:8080/",
          "height": 106
        }
      },
      "outputs": [
        {
          "output_type": "error",
          "ename": "SyntaxError",
          "evalue": "f-string: unmatched '[' (ipython-input-10-3621977808.py, line 20)",
          "traceback": [
            "\u001b[0;36m  File \u001b[0;32m\"/tmp/ipython-input-10-3621977808.py\"\u001b[0;36m, line \u001b[0;32m20\u001b[0m\n\u001b[0;31m    Loss data: {losses['loss_data']}, \\\u001b[0m\n\u001b[0m                        ^\u001b[0m\n\u001b[0;31mSyntaxError\u001b[0m\u001b[0;31m:\u001b[0m f-string: unmatched '['\n"
          ]
        }
      ],
      "source": [
        "#Train loop\n",
        "for i in range(N):\n",
        "    #Pick a random batch of data and boundaries\n",
        "    train_data_i = Variable(batch_sample(train_data, BS))\n",
        "    train_boundary_i = Variable(batch_sample(train_boundary, BS))\n",
        "\n",
        "    #Domain points\n",
        "    train_phys_i = Variable(domain_sampling(BS, T, L))\n",
        "\n",
        "    #Train step\n",
        "    optimizer.zero_grad()\n",
        "    losses = train_step(network,\n",
        "                        train_data_i, train_phys_i, train_boundary_i,\n",
        "                        loss_phys_func)\n",
        "    loss = losses['loss']\n",
        "    ld = losses['loss_data']\n",
        "    lb = losses['loss_bound']\n",
        "    lp = losses['loss_phys']\n",
        "    loss.backward()\n",
        "    optimizer.step()\n",
        "    if i % PN == 0:\n",
        "        print(f'Iter {i}, Loss: {loss.item()}, Loss data: {ld}, Loss boundary: {lb}, Loss phys: {lp}')"
      ]
    }
  ],
  "metadata": {
    "kernelspec": {
      "display_name": ".venv",
      "language": "python",
      "name": "python3"
    },
    "language_info": {
      "codemirror_mode": {
        "name": "ipython",
        "version": 3
      },
      "file_extension": ".py",
      "mimetype": "text/x-python",
      "name": "python",
      "nbconvert_exporter": "python",
      "pygments_lexer": "ipython3",
      "version": "3.13.3"
    },
    "colab": {
      "provenance": []
    }
  },
  "nbformat": 4,
  "nbformat_minor": 0
}